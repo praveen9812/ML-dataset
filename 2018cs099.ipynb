{
  "nbformat": 4,
  "nbformat_minor": 0,
  "metadata": {
    "colab": {
      "name": "Untitled11.ipynb",
      "provenance": [],
      "collapsed_sections": [],
      "include_colab_link": true
    },
    "kernelspec": {
      "name": "python3",
      "display_name": "Python 3"
    },
    "language_info": {
      "name": "python"
    }
  },
  "cells": [
    {
      "cell_type": "markdown",
      "metadata": {
        "id": "view-in-github",
        "colab_type": "text"
      },
      "source": [
        "<a href=\"https://colab.research.google.com/github/praveen9812/ML-dataset/blob/main/2018cs099.ipynb\" target=\"_parent\"><img src=\"https://colab.research.google.com/assets/colab-badge.svg\" alt=\"Open In Colab\"/></a>"
      ]
    },
    {
      "cell_type": "code",
      "metadata": {
        "id": "Hk3QtGpwCXuZ"
      },
      "source": [
        "import numpy as np\n",
        "import pandas as pd"
      ],
      "execution_count": 13,
      "outputs": []
    },
    {
      "cell_type": "code",
      "metadata": {
        "colab": {
          "base_uri": "https://localhost:8080/"
        },
        "id": "BWdS1-egCa3Z",
        "outputId": "08d7fe2c-c3ce-4fb6-e7d3-5753e69bbaf3"
      },
      "source": [
        "data=pd.read_csv(\"https://raw.githubusercontent.com/praveen9812/dataset/main/iris.csv\")\n",
        "print(data)"
      ],
      "execution_count": 17,
      "outputs": [
        {
          "output_type": "stream",
          "name": "stdout",
          "text": [
            "     Sepal  length  Sepal width  Petal length  Petal width           Class\n",
            "0              4.9          3.0           1.4          0.2     Iris-setosa\n",
            "1              4.7          3.2           1.3          0.2     Iris-setosa\n",
            "2              4.6          3.1           1.5          0.2     Iris-setosa\n",
            "3              5.0          3.6           1.4          0.2     Iris-setosa\n",
            "4              5.4          3.9           1.7          0.4     Iris-setosa\n",
            "..             ...          ...           ...          ...             ...\n",
            "144            6.7          3.0           5.2          2.3  Iris-virginica\n",
            "145            6.3          2.5           5.0          1.9  Iris-virginica\n",
            "146            6.5          3.0           5.2          2.0  Iris-virginica\n",
            "147            6.2          3.4           5.4          2.3  Iris-virginica\n",
            "148            5.9          3.0           5.1          1.8  Iris-virginica\n",
            "\n",
            "[149 rows x 5 columns]\n"
          ]
        }
      ]
    },
    {
      "cell_type": "code",
      "metadata": {
        "id": "4DfiMAyBChdu"
      },
      "source": [
        "x=data.drop(\"Class\",axis=1)"
      ],
      "execution_count": 18,
      "outputs": []
    },
    {
      "cell_type": "code",
      "metadata": {
        "id": "W8QzoawhCji0"
      },
      "source": [
        "y=data[\"Class\"]"
      ],
      "execution_count": 20,
      "outputs": []
    },
    {
      "cell_type": "code",
      "metadata": {
        "id": "37uR6u5DClnl"
      },
      "source": [
        "from sklearn.model_selection import train_test_split\n",
        "x_train,x_test,y_train,y_test=train_test_split(x,y,test_size=0.3)"
      ],
      "execution_count": 21,
      "outputs": []
    },
    {
      "cell_type": "code",
      "metadata": {
        "colab": {
          "base_uri": "https://localhost:8080/"
        },
        "id": "US0cSjJECoXd",
        "outputId": "01612338-7fb0-45d0-e0c6-fde24de3248a"
      },
      "source": [
        "from sklearn.ensemble import RandomForestClassifier\n",
        "model=RandomForestClassifier(n_estimators=100)\n",
        "model.fit(x_train,y_train)"
      ],
      "execution_count": 22,
      "outputs": [
        {
          "output_type": "execute_result",
          "data": {
            "text/plain": [
              "RandomForestClassifier(bootstrap=True, ccp_alpha=0.0, class_weight=None,\n",
              "                       criterion='gini', max_depth=None, max_features='auto',\n",
              "                       max_leaf_nodes=None, max_samples=None,\n",
              "                       min_impurity_decrease=0.0, min_impurity_split=None,\n",
              "                       min_samples_leaf=1, min_samples_split=2,\n",
              "                       min_weight_fraction_leaf=0.0, n_estimators=100,\n",
              "                       n_jobs=None, oob_score=False, random_state=None,\n",
              "                       verbose=0, warm_start=False)"
            ]
          },
          "metadata": {},
          "execution_count": 22
        }
      ]
    },
    {
      "cell_type": "code",
      "metadata": {
        "id": "rM_v9wqRCqMq"
      },
      "source": [
        "pred=model.predict(x_test)"
      ],
      "execution_count": 19,
      "outputs": []
    },
    {
      "cell_type": "code",
      "metadata": {
        "colab": {
          "base_uri": "https://localhost:8080/"
        },
        "id": "fD-uuUswCr6F",
        "outputId": "b73e78d5-1eee-4a17-efd1-1b4ade48f92d"
      },
      "source": [
        "pred"
      ],
      "execution_count": 23,
      "outputs": [
        {
          "output_type": "execute_result",
          "data": {
            "text/plain": [
              "array(['Iris-setosa', 'Iris-setosa', 'Iris-versicolor', 'Iris-setosa',\n",
              "       'Iris-setosa', 'Iris-versicolor', 'Iris-setosa', 'Iris-setosa',\n",
              "       'Iris-versicolor', 'Iris-versicolor', 'Iris-versicolor',\n",
              "       'Iris-setosa', 'Iris-virginica', 'Iris-virginica', 'Iris-setosa',\n",
              "       'Iris-virginica', 'Iris-virginica', 'Iris-virginica',\n",
              "       'Iris-versicolor', 'Iris-virginica', 'Iris-setosa',\n",
              "       'Iris-versicolor', 'Iris-setosa', 'Iris-virginica',\n",
              "       'Iris-virginica', 'Iris-setosa', 'Iris-setosa', 'Iris-virginica',\n",
              "       'Iris-setosa', 'Iris-setosa', 'Iris-versicolor', 'Iris-versicolor',\n",
              "       'Iris-virginica', 'Iris-virginica', 'Iris-virginica',\n",
              "       'Iris-setosa', 'Iris-versicolor', 'Iris-versicolor',\n",
              "       'Iris-virginica', 'Iris-versicolor', 'Iris-virginica',\n",
              "       'Iris-setosa', 'Iris-setosa', 'Iris-virginica', 'Iris-setosa'],\n",
              "      dtype=object)"
            ]
          },
          "metadata": {},
          "execution_count": 23
        }
      ]
    },
    {
      "cell_type": "code",
      "metadata": {
        "colab": {
          "base_uri": "https://localhost:8080/"
        },
        "id": "z-Tc2tvNCuP9",
        "outputId": "5032c261-6fcb-4fa7-bb03-7aed711d8ac8"
      },
      "source": [
        "y_test"
      ],
      "execution_count": 24,
      "outputs": [
        {
          "output_type": "execute_result",
          "data": {
            "text/plain": [
              "32         Iris-setosa\n",
              "136     Iris-virginica\n",
              "83     Iris-versicolor\n",
              "116     Iris-virginica\n",
              "4          Iris-setosa\n",
              "27         Iris-setosa\n",
              "5          Iris-setosa\n",
              "2          Iris-setosa\n",
              "19         Iris-setosa\n",
              "94     Iris-versicolor\n",
              "7          Iris-setosa\n",
              "75     Iris-versicolor\n",
              "15         Iris-setosa\n",
              "12         Iris-setosa\n",
              "140     Iris-virginica\n",
              "129     Iris-virginica\n",
              "85     Iris-versicolor\n",
              "90     Iris-versicolor\n",
              "44         Iris-setosa\n",
              "134     Iris-virginica\n",
              "35         Iris-setosa\n",
              "96     Iris-versicolor\n",
              "98     Iris-versicolor\n",
              "148     Iris-virginica\n",
              "24         Iris-setosa\n",
              "115     Iris-virginica\n",
              "108     Iris-virginica\n",
              "59     Iris-versicolor\n",
              "61     Iris-versicolor\n",
              "52     Iris-versicolor\n",
              "104     Iris-virginica\n",
              "73     Iris-versicolor\n",
              "92     Iris-versicolor\n",
              "1          Iris-setosa\n",
              "63     Iris-versicolor\n",
              "20         Iris-setosa\n",
              "22         Iris-setosa\n",
              "121     Iris-virginica\n",
              "89     Iris-versicolor\n",
              "47         Iris-setosa\n",
              "62     Iris-versicolor\n",
              "91     Iris-versicolor\n",
              "118     Iris-virginica\n",
              "88     Iris-versicolor\n",
              "133     Iris-virginica\n",
              "Name: Class, dtype: object"
            ]
          },
          "metadata": {},
          "execution_count": 24
        }
      ]
    },
    {
      "cell_type": "code",
      "metadata": {
        "colab": {
          "base_uri": "https://localhost:8080/"
        },
        "id": "sxmeTpIHCwNl",
        "outputId": "9963c05d-2b3f-43f1-a9a4-8277172f4d66"
      },
      "source": [
        "from sklearn.metrics import accuracy_score\n",
        "accuracy_score(y_test,pred)"
      ],
      "execution_count": 25,
      "outputs": [
        {
          "output_type": "execute_result",
          "data": {
            "text/plain": [
              "0.28888888888888886"
            ]
          },
          "metadata": {},
          "execution_count": 25
        }
      ]
    }
  ]
}